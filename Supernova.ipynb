{
  "nbformat": 4,
  "nbformat_minor": 0,
  "metadata": {
    "colab": {
      "name": "Supernova.ipynb",
      "provenance": [],
      "collapsed_sections": [],
      "authorship_tag": "ABX9TyMYWJiEp+0tk/yKLW51nWWo",
      "include_colab_link": true
    },
    "kernelspec": {
      "name": "python3",
      "display_name": "Python 3"
    }
  },
  "cells": [
    {
      "cell_type": "markdown",
      "metadata": {
        "id": "view-in-github",
        "colab_type": "text"
      },
      "source": [
        "<a href=\"https://colab.research.google.com/github/IslamMSaad/Supernova2021/blob/main/Supernova.ipynb\" target=\"_parent\"><img src=\"https://colab.research.google.com/assets/colab-badge.svg\" alt=\"Open In Colab\"/></a>"
      ]
    },
    {
      "cell_type": "code",
      "metadata": {
        "id": "xOPFftu4x550"
      },
      "source": [
        "#Import libraries\r\n",
        "import pandas as pd\r\n",
        "import numpy as np\r\n",
        "import random\r\n",
        "import matplotlib.pyplot as plt\r\n",
        "%matplotlib inline\r\n",
        "#We are setting the seed to assure you get the same answers on quizzes as we set up\r\n",
        "random.seed(42)"
      ],
      "execution_count": 2,
      "outputs": []
    },
    {
      "cell_type": "code",
      "metadata": {
        "id": "B5jEEqllFZG-",
        "colab": {
          "base_uri": "https://localhost:8080/",
          "height": 210
        },
        "outputId": "11a5ef82-f8a3-4892-d0c4-35ab4254ff65"
      },
      "source": [
        "data_supernova = pd.read_excel(open('SuperNova__2021__Flash.xlsx', 'rb'),\r\n",
        "              sheet_name='الصادر') \r\n",
        "data_supernova.head(3)"
      ],
      "execution_count": 18,
      "outputs": [
        {
          "output_type": "execute_result",
          "data": {
            "text/html": [
              "<div>\n",
              "<style scoped>\n",
              "    .dataframe tbody tr th:only-of-type {\n",
              "        vertical-align: middle;\n",
              "    }\n",
              "\n",
              "    .dataframe tbody tr th {\n",
              "        vertical-align: top;\n",
              "    }\n",
              "\n",
              "    .dataframe thead th {\n",
              "        text-align: right;\n",
              "    }\n",
              "</style>\n",
              "<table border=\"1\" class=\"dataframe\">\n",
              "  <thead>\n",
              "    <tr style=\"text-align: right;\">\n",
              "      <th></th>\n",
              "      <th>م</th>\n",
              "      <th>التاريخ</th>\n",
              "      <th>الكود</th>\n",
              "      <th>شركة</th>\n",
              "      <th>الصنف</th>\n",
              "      <th>عدد</th>\n",
              "      <th>سعر البيع</th>\n",
              "      <th>خصم خاص</th>\n",
              "      <th>السعر الاجمالى</th>\n",
              "      <th>إجمالى الأوردر</th>\n",
              "      <th>خصم نقاط</th>\n",
              "      <th>الاجمالى</th>\n",
              "      <th>كود العميل</th>\n",
              "      <th>اسم العميل</th>\n",
              "      <th>رقم التليفون</th>\n",
              "      <th>ماركة السيارة</th>\n",
              "      <th>طراز السيارة</th>\n",
              "      <th>كود الكارت</th>\n",
              "    </tr>\n",
              "  </thead>\n",
              "  <tbody>\n",
              "    <tr>\n",
              "      <th>0</th>\n",
              "      <td>1.0</td>\n",
              "      <td>2021-02-01</td>\n",
              "      <td>SHL5</td>\n",
              "      <td>شل</td>\n",
              "      <td>زيت  موتوسيكل -أحادى - SAE50 ( 1 لتر)</td>\n",
              "      <td>1.0</td>\n",
              "      <td>45.0</td>\n",
              "      <td>NaN</td>\n",
              "      <td>45.0</td>\n",
              "      <td>NaN</td>\n",
              "      <td>NaN</td>\n",
              "      <td>0.0</td>\n",
              "      <td>NaN</td>\n",
              "      <td>NaN</td>\n",
              "      <td>NaN</td>\n",
              "      <td>NaN</td>\n",
              "      <td>NaN</td>\n",
              "      <td>NaN</td>\n",
              "    </tr>\n",
              "    <tr>\n",
              "      <th>1</th>\n",
              "      <td>1.0</td>\n",
              "      <td>2021-02-01</td>\n",
              "      <td>CH2</td>\n",
              "      <td>غيار</td>\n",
              "      <td>موتوسيكل</td>\n",
              "      <td>1.0</td>\n",
              "      <td>5.0</td>\n",
              "      <td>NaN</td>\n",
              "      <td>5.0</td>\n",
              "      <td>NaN</td>\n",
              "      <td>NaN</td>\n",
              "      <td>0.0</td>\n",
              "      <td>NaN</td>\n",
              "      <td>NaN</td>\n",
              "      <td>NaN</td>\n",
              "      <td>NaN</td>\n",
              "      <td>NaN</td>\n",
              "      <td>NaN</td>\n",
              "    </tr>\n",
              "    <tr>\n",
              "      <th>2</th>\n",
              "      <td>1.0</td>\n",
              "      <td>2021-02-01</td>\n",
              "      <td>W141</td>\n",
              "      <td>سوبرنوفا</td>\n",
              "      <td>غسيل موتوسيكل - عرض الزيت</td>\n",
              "      <td>1.0</td>\n",
              "      <td>10.0</td>\n",
              "      <td>NaN</td>\n",
              "      <td>10.0</td>\n",
              "      <td>NaN</td>\n",
              "      <td>NaN</td>\n",
              "      <td>0.0</td>\n",
              "      <td>NaN</td>\n",
              "      <td>NaN</td>\n",
              "      <td>NaN</td>\n",
              "      <td>NaN</td>\n",
              "      <td>NaN</td>\n",
              "      <td>NaN</td>\n",
              "    </tr>\n",
              "  </tbody>\n",
              "</table>\n",
              "</div>"
            ],
            "text/plain": [
              "     م    التاريخ الكود  ... ماركة السيارة طراز السيارة  كود الكارت\n",
              "0  1.0 2021-02-01  SHL5  ...           NaN          NaN         NaN\n",
              "1  1.0 2021-02-01   CH2  ...           NaN          NaN         NaN\n",
              "2  1.0 2021-02-01  W141  ...           NaN          NaN         NaN\n",
              "\n",
              "[3 rows x 18 columns]"
            ]
          },
          "metadata": {
            "tags": []
          },
          "execution_count": 18
        }
      ]
    },
    {
      "cell_type": "code",
      "metadata": {
        "colab": {
          "base_uri": "https://localhost:8080/"
        },
        "id": "R1RXoQo3zhwv",
        "outputId": "e8cdf7ad-053e-488f-dbb4-804383a062cf"
      },
      "source": [
        "data_supernova.shape"
      ],
      "execution_count": 16,
      "outputs": [
        {
          "output_type": "execute_result",
          "data": {
            "text/plain": [
              "(5015, 18)"
            ]
          },
          "metadata": {
            "tags": []
          },
          "execution_count": 16
        }
      ]
    },
    {
      "cell_type": "code",
      "metadata": {
        "colab": {
          "base_uri": "https://localhost:8080/"
        },
        "id": "MuiMX_yN1vZy",
        "outputId": "e395238e-6e0e-4914-8a1a-e892566b0dee"
      },
      "source": [
        "data_supernova.columns"
      ],
      "execution_count": 21,
      "outputs": [
        {
          "output_type": "execute_result",
          "data": {
            "text/plain": [
              "Index(['م', 'التاريخ', 'الكود', 'شركة ', 'الصنف', 'عدد', 'سعر البيع',\n",
              "       'خصم خاص', 'السعر الاجمالى', 'إجمالى الأوردر', 'خصم نقاط', 'الاجمالى',\n",
              "       'كود العميل', 'اسم العميل ', 'رقم التليفون', 'ماركة السيارة',\n",
              "       'طراز السيارة', 'كود الكارت'],\n",
              "      dtype='object')"
            ]
          },
          "metadata": {
            "tags": []
          },
          "execution_count": 21
        }
      ]
    },
    {
      "cell_type": "code",
      "metadata": {
        "colab": {
          "base_uri": "https://localhost:8080/"
        },
        "id": "RhVFBKPl2Ct7",
        "outputId": "f6c558e3-eece-491e-a803-26e435f105f0"
      },
      "source": [
        "data_supernova.nunique()"
      ],
      "execution_count": 27,
      "outputs": [
        {
          "output_type": "execute_result",
          "data": {
            "text/plain": [
              "م                 141\n",
              "التاريخ            24\n",
              "الكود              38\n",
              "شركة               11\n",
              "الصنف              33\n",
              "عدد                 2\n",
              "سعر البيع          26\n",
              "خصم خاص             6\n",
              "السعر الاجمالى     26\n",
              "إجمالى الأوردر     24\n",
              "خصم نقاط            0\n",
              "الاجمالى           31\n",
              "كود العميل          1\n",
              "اسم العميل          0\n",
              "رقم التليفون        0\n",
              "ماركة السيارة       0\n",
              "طراز السيارة        0\n",
              "كود الكارت          0\n",
              "dtype: int64"
            ]
          },
          "metadata": {
            "tags": []
          },
          "execution_count": 27
        }
      ]
    },
    {
      "cell_type": "code",
      "metadata": {
        "colab": {
          "base_uri": "https://localhost:8080/"
        },
        "id": "I38s5t3F0Qql",
        "outputId": "6d47ce24-7ce2-4000-d28a-55a5661b373e"
      },
      "source": [
        "data_supernova.rename(columns = {'شركة ': 'الشركة'}, inplace = True)\r\n",
        "data_supernova.columns\r\n",
        "selected_variables = ['التاريخ','الكود','الشركة','الصنف','سعر البيع','خصم خاص','السعر الاجمالى']\r\n",
        "data_supernova_tidy=data_supernova[selected_variables]\r\n",
        "data_supernova_tidy.shape"
      ],
      "execution_count": 32,
      "outputs": [
        {
          "output_type": "execute_result",
          "data": {
            "text/plain": [
              "(5015, 7)"
            ]
          },
          "metadata": {
            "tags": []
          },
          "execution_count": 32
        }
      ]
    },
    {
      "cell_type": "code",
      "metadata": {
        "colab": {
          "base_uri": "https://localhost:8080/"
        },
        "id": "iM8O16nZx9e0",
        "outputId": "40e2b7d7-115b-46e6-bde4-572b7c241939"
      },
      "source": [
        "data_supernova_tidy.isnull().sum()"
      ],
      "execution_count": 33,
      "outputs": [
        {
          "output_type": "execute_result",
          "data": {
            "text/plain": [
              "التاريخ           4872\n",
              "الكود             4872\n",
              "الشركة            4872\n",
              "الصنف             4872\n",
              "سعر البيع         4872\n",
              "خصم خاص           4995\n",
              "السعر الاجمالى    2851\n",
              "dtype: int64"
            ]
          },
          "metadata": {
            "tags": []
          },
          "execution_count": 33
        }
      ]
    },
    {
      "cell_type": "code",
      "metadata": {
        "id": "LmFG8ed5zBah"
      },
      "source": [
        "data_dup = data_supernova_tidy.dropna()"
      ],
      "execution_count": 39,
      "outputs": []
    },
    {
      "cell_type": "code",
      "metadata": {
        "colab": {
          "base_uri": "https://localhost:8080/",
          "height": 669
        },
        "id": "1okTNwZKz5m_",
        "outputId": "50270b63-3e31-4576-b8a8-54308c9d05e7"
      },
      "source": [
        "#عرض الخصومات فى سوبرنوفا خلال شهر فبراير\r\n",
        "Discounts = data_supernova_tidy[data_supernova_tidy['خصم خاص'].isnull() != True]\r\n",
        "Discounts"
      ],
      "execution_count": 58,
      "outputs": [
        {
          "output_type": "execute_result",
          "data": {
            "text/html": [
              "<div>\n",
              "<style scoped>\n",
              "    .dataframe tbody tr th:only-of-type {\n",
              "        vertical-align: middle;\n",
              "    }\n",
              "\n",
              "    .dataframe tbody tr th {\n",
              "        vertical-align: top;\n",
              "    }\n",
              "\n",
              "    .dataframe thead th {\n",
              "        text-align: right;\n",
              "    }\n",
              "</style>\n",
              "<table border=\"1\" class=\"dataframe\">\n",
              "  <thead>\n",
              "    <tr style=\"text-align: right;\">\n",
              "      <th></th>\n",
              "      <th>التاريخ</th>\n",
              "      <th>الكود</th>\n",
              "      <th>الشركة</th>\n",
              "      <th>الصنف</th>\n",
              "      <th>سعر البيع</th>\n",
              "      <th>خصم خاص</th>\n",
              "      <th>السعر الاجمالى</th>\n",
              "    </tr>\n",
              "  </thead>\n",
              "  <tbody>\n",
              "    <tr>\n",
              "      <th>38</th>\n",
              "      <td>2021-02-06</td>\n",
              "      <td>cas2</td>\n",
              "      <td>كاسترول</td>\n",
              "      <td>زيت  10,000 كم-MAGNATEC-10W40(4لتر)</td>\n",
              "      <td>425.0</td>\n",
              "      <td>35.0</td>\n",
              "      <td>390.0</td>\n",
              "    </tr>\n",
              "    <tr>\n",
              "      <th>51</th>\n",
              "      <td>2021-02-09</td>\n",
              "      <td>cas2</td>\n",
              "      <td>كاسترول</td>\n",
              "      <td>زيت  10,000 كم-MAGNATEC-10W40(4لتر)</td>\n",
              "      <td>425.0</td>\n",
              "      <td>35.0</td>\n",
              "      <td>390.0</td>\n",
              "    </tr>\n",
              "    <tr>\n",
              "      <th>54</th>\n",
              "      <td>2021-02-09</td>\n",
              "      <td>shl3</td>\n",
              "      <td>شل</td>\n",
              "      <td>زيت  3,000 كم-متعدد - الأحمر ( 4 لتر)</td>\n",
              "      <td>185.0</td>\n",
              "      <td>5.0</td>\n",
              "      <td>180.0</td>\n",
              "    </tr>\n",
              "    <tr>\n",
              "      <th>64</th>\n",
              "      <td>2021-02-10</td>\n",
              "      <td>cas2</td>\n",
              "      <td>كاسترول</td>\n",
              "      <td>زيت  10,000 كم-MAGNATEC-10W40(4لتر)</td>\n",
              "      <td>425.0</td>\n",
              "      <td>35.0</td>\n",
              "      <td>390.0</td>\n",
              "    </tr>\n",
              "    <tr>\n",
              "      <th>74</th>\n",
              "      <td>2021-02-13</td>\n",
              "      <td>cas2</td>\n",
              "      <td>كاسترول</td>\n",
              "      <td>زيت  10,000 كم-MAGNATEC-10W40(4لتر)</td>\n",
              "      <td>425.0</td>\n",
              "      <td>35.0</td>\n",
              "      <td>390.0</td>\n",
              "    </tr>\n",
              "    <tr>\n",
              "      <th>93</th>\n",
              "      <td>2021-02-18</td>\n",
              "      <td>cas2</td>\n",
              "      <td>كاسترول</td>\n",
              "      <td>زيت  10,000 كم-MAGNATEC-10W40(4لتر)</td>\n",
              "      <td>425.0</td>\n",
              "      <td>35.0</td>\n",
              "      <td>390.0</td>\n",
              "    </tr>\n",
              "    <tr>\n",
              "      <th>95</th>\n",
              "      <td>2021-02-18</td>\n",
              "      <td>tot1</td>\n",
              "      <td>توتال</td>\n",
              "      <td>زيت  5,000 كم- ( 4 لتر)</td>\n",
              "      <td>325.0</td>\n",
              "      <td>15.0</td>\n",
              "      <td>310.0</td>\n",
              "    </tr>\n",
              "    <tr>\n",
              "      <th>104</th>\n",
              "      <td>2021-02-19</td>\n",
              "      <td>cas2</td>\n",
              "      <td>كاسترول</td>\n",
              "      <td>زيت  10,000 كم-MAGNATEC-10W40(4لتر)</td>\n",
              "      <td>425.0</td>\n",
              "      <td>35.0</td>\n",
              "      <td>390.0</td>\n",
              "    </tr>\n",
              "    <tr>\n",
              "      <th>105</th>\n",
              "      <td>2021-02-20</td>\n",
              "      <td>shl1</td>\n",
              "      <td>شل</td>\n",
              "      <td>زيت  10,000 كم- 5W40 ( 4 لتر)</td>\n",
              "      <td>600.0</td>\n",
              "      <td>50.0</td>\n",
              "      <td>550.0</td>\n",
              "    </tr>\n",
              "    <tr>\n",
              "      <th>106</th>\n",
              "      <td>2021-02-20</td>\n",
              "      <td>cas3</td>\n",
              "      <td>كاسترول</td>\n",
              "      <td>زيت  5,000 كم-GTX- 20W50 ( 5 لتر)</td>\n",
              "      <td>325.0</td>\n",
              "      <td>25.0</td>\n",
              "      <td>300.0</td>\n",
              "    </tr>\n",
              "    <tr>\n",
              "      <th>115</th>\n",
              "      <td>2021-02-22</td>\n",
              "      <td>cas2</td>\n",
              "      <td>كاسترول</td>\n",
              "      <td>زيت  10,000 كم-MAGNATEC-10W40(4لتر)</td>\n",
              "      <td>425.0</td>\n",
              "      <td>35.0</td>\n",
              "      <td>390.0</td>\n",
              "    </tr>\n",
              "    <tr>\n",
              "      <th>121</th>\n",
              "      <td>2021-02-24</td>\n",
              "      <td>shl3</td>\n",
              "      <td>شل</td>\n",
              "      <td>زيت  3,000 كم-متعدد - الأحمر ( 4 لتر)</td>\n",
              "      <td>185.0</td>\n",
              "      <td>5.0</td>\n",
              "      <td>180.0</td>\n",
              "    </tr>\n",
              "    <tr>\n",
              "      <th>122</th>\n",
              "      <td>2021-02-24</td>\n",
              "      <td>shl1</td>\n",
              "      <td>شل</td>\n",
              "      <td>زيت  10,000 كم- 5W40 ( 4 لتر)</td>\n",
              "      <td>600.0</td>\n",
              "      <td>50.0</td>\n",
              "      <td>550.0</td>\n",
              "    </tr>\n",
              "    <tr>\n",
              "      <th>127</th>\n",
              "      <td>2021-02-25</td>\n",
              "      <td>cas2</td>\n",
              "      <td>كاسترول</td>\n",
              "      <td>زيت  10,000 كم-MAGNATEC-10W40(4لتر)</td>\n",
              "      <td>425.0</td>\n",
              "      <td>35.0</td>\n",
              "      <td>390.0</td>\n",
              "    </tr>\n",
              "    <tr>\n",
              "      <th>128</th>\n",
              "      <td>2021-02-25</td>\n",
              "      <td>cas2</td>\n",
              "      <td>كاسترول</td>\n",
              "      <td>زيت  10,000 كم-MAGNATEC-10W40(4لتر)</td>\n",
              "      <td>425.0</td>\n",
              "      <td>35.0</td>\n",
              "      <td>390.0</td>\n",
              "    </tr>\n",
              "    <tr>\n",
              "      <th>132</th>\n",
              "      <td>2021-02-26</td>\n",
              "      <td>cas2</td>\n",
              "      <td>كاسترول</td>\n",
              "      <td>زيت  10,000 كم-MAGNATEC-10W40(4لتر)</td>\n",
              "      <td>425.0</td>\n",
              "      <td>35.0</td>\n",
              "      <td>390.0</td>\n",
              "    </tr>\n",
              "    <tr>\n",
              "      <th>133</th>\n",
              "      <td>2021-02-26</td>\n",
              "      <td>shl1</td>\n",
              "      <td>شل</td>\n",
              "      <td>زيت  10,000 كم- 5W40 ( 4 لتر)</td>\n",
              "      <td>600.0</td>\n",
              "      <td>50.0</td>\n",
              "      <td>550.0</td>\n",
              "    </tr>\n",
              "    <tr>\n",
              "      <th>134</th>\n",
              "      <td>2021-02-26</td>\n",
              "      <td>w112</td>\n",
              "      <td>سوبرنوفا</td>\n",
              "      <td>كيماوى - سقف</td>\n",
              "      <td>100.0</td>\n",
              "      <td>30.0</td>\n",
              "      <td>70.0</td>\n",
              "    </tr>\n",
              "    <tr>\n",
              "      <th>139</th>\n",
              "      <td>2021-02-27</td>\n",
              "      <td>cas2</td>\n",
              "      <td>كاسترول</td>\n",
              "      <td>زيت  10,000 كم-MAGNATEC-10W40(4لتر)</td>\n",
              "      <td>425.0</td>\n",
              "      <td>35.0</td>\n",
              "      <td>390.0</td>\n",
              "    </tr>\n",
              "    <tr>\n",
              "      <th>142</th>\n",
              "      <td>2021-02-27</td>\n",
              "      <td>shl4</td>\n",
              "      <td>شل</td>\n",
              "      <td>زيت  3,000 كم-متعدد - الأحمر ( 1 لتر)</td>\n",
              "      <td>55.0</td>\n",
              "      <td>5.0</td>\n",
              "      <td>50.0</td>\n",
              "    </tr>\n",
              "  </tbody>\n",
              "</table>\n",
              "</div>"
            ],
            "text/plain": [
              "       التاريخ الكود    الشركة  ... سعر البيع  خصم خاص  السعر الاجمالى\n",
              "38  2021-02-06  cas2   كاسترول  ...     425.0     35.0           390.0\n",
              "51  2021-02-09  cas2   كاسترول  ...     425.0     35.0           390.0\n",
              "54  2021-02-09  shl3        شل  ...     185.0      5.0           180.0\n",
              "64  2021-02-10  cas2   كاسترول  ...     425.0     35.0           390.0\n",
              "74  2021-02-13  cas2   كاسترول  ...     425.0     35.0           390.0\n",
              "93  2021-02-18  cas2   كاسترول  ...     425.0     35.0           390.0\n",
              "95  2021-02-18  tot1     توتال  ...     325.0     15.0           310.0\n",
              "104 2021-02-19  cas2   كاسترول  ...     425.0     35.0           390.0\n",
              "105 2021-02-20  shl1        شل  ...     600.0     50.0           550.0\n",
              "106 2021-02-20  cas3   كاسترول  ...     325.0     25.0           300.0\n",
              "115 2021-02-22  cas2   كاسترول  ...     425.0     35.0           390.0\n",
              "121 2021-02-24  shl3        شل  ...     185.0      5.0           180.0\n",
              "122 2021-02-24  shl1        شل  ...     600.0     50.0           550.0\n",
              "127 2021-02-25  cas2   كاسترول  ...     425.0     35.0           390.0\n",
              "128 2021-02-25  cas2   كاسترول  ...     425.0     35.0           390.0\n",
              "132 2021-02-26  cas2   كاسترول  ...     425.0     35.0           390.0\n",
              "133 2021-02-26  shl1        شل  ...     600.0     50.0           550.0\n",
              "134 2021-02-26  w112  سوبرنوفا  ...     100.0     30.0            70.0\n",
              "139 2021-02-27  cas2   كاسترول  ...     425.0     35.0           390.0\n",
              "142 2021-02-27  shl4        شل  ...      55.0      5.0            50.0\n",
              "\n",
              "[20 rows x 7 columns]"
            ]
          },
          "metadata": {
            "tags": []
          },
          "execution_count": 58
        }
      ]
    },
    {
      "cell_type": "code",
      "metadata": {
        "colab": {
          "base_uri": "https://localhost:8080/"
        },
        "id": "2D6N76Cf5Rlp",
        "outputId": "1b3cc101-471e-4008-d86f-98ca3a52226a"
      },
      "source": [
        "#عرض الخصومات الغسيل سوبرنوفا خلال شهر فبراير\r\n",
        "Discounts = data_supernova_tidy[data_supernova_tidy['خصم خاص'].isnull() != True]\r\n",
        "\r\n",
        "cd1= Discounts[Discounts['الكود'].str.contains(\"w.*\")]\r\n",
        "cd2= Discounts[Discounts['الشركة'].str.contains(\"سوبرنوفا\")]\r\n",
        "\r\n",
        "if ((cd1['الكود'].count()== cd2['الكود'].count()) and (cd1['الشركة'].count() == cd2['الشركة'].count())):\r\n",
        "  print(\" خصومات الغسيل\" , cd1['خصم خاص'].count(), \"\\n اجمالى الخصومات\", cd1['خصم خاص'].sum())\r\n"
      ],
      "execution_count": 147,
      "outputs": [
        {
          "output_type": "stream",
          "text": [
            " خصومات الغسيل 1 \n",
            " اجمالى الخصومات 30.0\n"
          ],
          "name": "stdout"
        }
      ]
    },
    {
      "cell_type": "code",
      "metadata": {
        "colab": {
          "base_uri": "https://localhost:8080/"
        },
        "id": "RVTA9Ihu84ps",
        "outputId": "917311ff-724d-4154-d6e3-ff20a44ff49d"
      },
      "source": [
        "#عرض الخصومات الزيوت سوبرنوفا خلال شهر فبراير\r\n",
        "Discounts = data_supernova_tidy[data_supernova_tidy['خصم خاص'].isnull() != True]\r\n",
        "\r\n",
        "cd1= Discounts[~Discounts['الكود'].str.contains(\"w.*\")]\r\n",
        "cd2= Discounts[~Discounts['الشركة'].str.contains(\"سوبرنوفا\")]\r\n",
        "\r\n",
        "if ((cd1['الكود'].count()== cd2['الكود'].count()) and (cd1['الشركة'].count() == cd2['الشركة'].count())):\r\n",
        "  print(\" خصومات الزيوت\" , cd1['خصم خاص'].count(), \"\\n اجمالى الخصومات\", cd1['خصم خاص'].sum())\r\n"
      ],
      "execution_count": 149,
      "outputs": [
        {
          "output_type": "stream",
          "text": [
            " خصومات الزيوت 19 \n",
            " اجمالى الخصومات 590.0\n"
          ],
          "name": "stdout"
        }
      ]
    },
    {
      "cell_type": "code",
      "metadata": {
        "id": "bzWFgqsLIGtP"
      },
      "source": [
        ""
      ],
      "execution_count": null,
      "outputs": []
    }
  ]
}